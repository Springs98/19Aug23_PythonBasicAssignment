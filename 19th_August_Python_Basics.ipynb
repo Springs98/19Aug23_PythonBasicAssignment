{
  "nbformat": 4,
  "nbformat_minor": 0,
  "metadata": {
    "colab": {
      "provenance": []
    },
    "kernelspec": {
      "name": "python3",
      "display_name": "Python 3"
    },
    "language_info": {
      "name": "python"
    }
  },
  "cells": [
    {
      "cell_type": "markdown",
      "source": [
        "##TOPIC: Python Basics Variable"
      ],
      "metadata": {
        "id": "H_NGL4dPpMKi"
      }
    },
    {
      "cell_type": "markdown",
      "source": [
        "###1. Declare two variables, `x` and `y`, and assign them integer values. Swap the values of these variables without using any temporary variable."
      ],
      "metadata": {
        "id": "XTtlJ_6dk1j2"
      }
    },
    {
      "cell_type": "code",
      "source": [
        "x=1\n",
        "y=4\n",
        "print(f\"The value of x before swapping {x} and y is {y}\")\n",
        "x,y=y,x\n",
        "print(f\"The value of x after swapping {x} and y is {y}\")"
      ],
      "metadata": {
        "colab": {
          "base_uri": "https://localhost:8080/"
        },
        "id": "qBwLyvz-k_gA",
        "outputId": "69526783-9709-4138-c22b-6009c6650ffc"
      },
      "execution_count": 7,
      "outputs": [
        {
          "output_type": "stream",
          "name": "stdout",
          "text": [
            "The value of x before swapping 1 and y is 4\n",
            "The value of x after swapping 4 and y is 1\n"
          ]
        }
      ]
    },
    {
      "cell_type": "markdown",
      "source": [
        "###2. Create a program that calculates the area of a rectangle. Take the length and width as inputs from the user and store them in variables. Calculate and display the area."
      ],
      "metadata": {
        "id": "ZlybE3-hk-v0"
      }
    },
    {
      "cell_type": "code",
      "source": [
        "length=int(input(\"Ënter length: \"))\n",
        "width=int(input(\"Ënter width: \"))\n",
        "area=length*width\n",
        "print(f\"The area of the rectangle is {area}\")"
      ],
      "metadata": {
        "colab": {
          "base_uri": "https://localhost:8080/"
        },
        "id": "YMtHgq2ZmauA",
        "outputId": "55f05cbe-6a73-480b-d08f-a85280ebd811"
      },
      "execution_count": 9,
      "outputs": [
        {
          "output_type": "stream",
          "name": "stdout",
          "text": [
            "Ënter length: 15\n",
            "Ënter width: 20\n",
            "The area of the rectangle is 300\n"
          ]
        }
      ]
    },
    {
      "cell_type": "markdown",
      "source": [
        "### 3. Write a Python program that converts temperatures from Celsius to Fahrenheit. Take the temperature in Celsius as input, store it in a variable,convert it to Fahrenheit, and display the result."
      ],
      "metadata": {
        "id": "IjuJfpUCnUjI"
      }
    },
    {
      "cell_type": "code",
      "source": [
        "temp_celsius=float(input(\"Enter temperature in celsius: \"))\n",
        "temp_fahrenhite=(temp_celsius*(9/5)+32)\n",
        "print(f\"the temperature in fahrenhite is : {temp_fahrenhite}\")"
      ],
      "metadata": {
        "colab": {
          "base_uri": "https://localhost:8080/"
        },
        "id": "GhmqjSDenjIr",
        "outputId": "d7e09da5-a2c5-4ca4-82ee-3a5a2302af6b"
      },
      "execution_count": 15,
      "outputs": [
        {
          "output_type": "stream",
          "name": "stdout",
          "text": [
            "Enter temperature in celsius: 0\n",
            "the temperature in fahrenhite is : 32.0\n"
          ]
        }
      ]
    },
    {
      "cell_type": "markdown",
      "source": [
        "#**Topic-StringBased Question**"
      ],
      "metadata": {
        "id": "1gJQGPjGlSqX"
      }
    },
    {
      "cell_type": "markdown",
      "source": [
        "###1. Write a Python program that takes a string as input and prints the length of the string."
      ],
      "metadata": {
        "id": "9ADj4kiClfEc"
      }
    },
    {
      "cell_type": "code",
      "source": [
        "#take input from user\n",
        "string1=input(\"Enter a string:\")\n",
        "#print the length of the string\n",
        "print(\"The Length of the string is\",len(string1))"
      ],
      "metadata": {
        "colab": {
          "base_uri": "https://localhost:8080/"
        },
        "id": "aDfbgh1ClrVz",
        "outputId": "eab3500d-67ae-497b-dd87-5c178a7682c7"
      },
      "execution_count": null,
      "outputs": [
        {
          "output_type": "stream",
          "name": "stdout",
          "text": [
            "Enter a string:Horeram\n",
            "The Length of the string is 7\n"
          ]
        }
      ]
    },
    {
      "cell_type": "markdown",
      "source": [
        "###2. Create a program that takes a sentence from the user and counts the number of vowels (a, e, i, o, u) in the string."
      ],
      "metadata": {
        "id": "MQv6xt9FmwOq"
      }
    },
    {
      "cell_type": "code",
      "source": [
        "sentence_1=input(\"Enter the sentence: \")\n",
        "vowels=\"aeiou\"\n",
        "count=sum(sentence_1.count(vowel) for vowel in vowels)\n",
        "print(count)"
      ],
      "metadata": {
        "id": "9QR9jaZ-m30b",
        "colab": {
          "base_uri": "https://localhost:8080/"
        },
        "outputId": "d0a4b4a9-c9e8-4c8a-b860-4697b96e633b"
      },
      "execution_count": 6,
      "outputs": [
        {
          "output_type": "stream",
          "name": "stdout",
          "text": [
            "Enter the sentence: Data science for pro\n",
            "7\n"
          ]
        }
      ]
    },
    {
      "cell_type": "markdown",
      "source": [
        "###3. Given a string, reverse the order of characters using string slicing and print the reversed string."
      ],
      "metadata": {
        "id": "nm6teeGDsfla"
      }
    },
    {
      "cell_type": "code",
      "source": [
        "stringTest=\"python\"\n",
        "print(\"The reverse of the string is\",stringTest[::-1])"
      ],
      "metadata": {
        "colab": {
          "base_uri": "https://localhost:8080/"
        },
        "id": "qPdDWNEJssGQ",
        "outputId": "bdf01faa-56c4-40cd-c38c-3d4500f7b380"
      },
      "execution_count": null,
      "outputs": [
        {
          "output_type": "stream",
          "name": "stdout",
          "text": [
            "The reverse of the string is nohtyp\n"
          ]
        }
      ]
    },
    {
      "cell_type": "markdown",
      "source": [
        "###4. Write a program that takes a string as input and checks if it is a palindrome (reads the same forwards and backwards)."
      ],
      "metadata": {
        "id": "lOjFbwlDtxY4"
      }
    },
    {
      "cell_type": "code",
      "source": [
        "string2=input(\"Enter a string\")\n",
        "lowercase_string=string2.lower()\n",
        "rev_string=string[::-1]\n",
        "if(lowercase_string==rev_string)\n",
        "  print(\"String is Palindrome\")\n",
        "else\n",
        "  print(\"S\")\n"
      ],
      "metadata": {
        "colab": {
          "base_uri": "https://localhost:8080/",
          "height": 53
        },
        "id": "H5cgqvuDtfLA",
        "outputId": "11846e66-7b4e-4cf6-8d62-b00b6508834d"
      },
      "execution_count": null,
      "outputs": [
        {
          "name": "stdout",
          "output_type": "stream",
          "text": [
            "Enter a stringMoM\n"
          ]
        },
        {
          "output_type": "execute_result",
          "data": {
            "text/plain": [
              "'mom'"
            ],
            "application/vnd.google.colaboratory.intrinsic+json": {
              "type": "string"
            }
          },
          "metadata": {},
          "execution_count": 1
        }
      ]
    },
    {
      "cell_type": "markdown",
      "source": [
        "###Create a program that takes a string as input and removes all the spaces from it. Print the modified string without spaces."
      ],
      "metadata": {
        "id": "NWDkcI9FRGfw"
      }
    },
    {
      "cell_type": "code",
      "source": [
        "sentence=input(\"Enter a sentence\")\n",
        "#replace() the spaces\n",
        "print(sentence.replace(\" \",\"\"))"
      ],
      "metadata": {
        "colab": {
          "base_uri": "https://localhost:8080/"
        },
        "id": "Eit-S5EcRR94",
        "outputId": "086a9c93-ac22-4c47-d851-c4470c2eb487"
      },
      "execution_count": 3,
      "outputs": [
        {
          "output_type": "stream",
          "name": "stdout",
          "text": [
            "Enter a sentenceHi this is debanita\n",
            "Hithisisdebanita\n"
          ]
        }
      ]
    },
    {
      "cell_type": "code",
      "source": [],
      "metadata": {
        "id": "AnMajKjDRlOz"
      },
      "execution_count": null,
      "outputs": []
    }
  ]
}