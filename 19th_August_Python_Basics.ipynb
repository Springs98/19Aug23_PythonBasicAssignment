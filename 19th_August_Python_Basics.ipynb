{
  "nbformat": 4,
  "nbformat_minor": 0,
  "metadata": {
    "colab": {
      "provenance": []
    },
    "kernelspec": {
      "name": "python3",
      "display_name": "Python 3"
    },
    "language_info": {
      "name": "python"
    }
  },
  "cells": [
    {
      "cell_type": "markdown",
      "source": [
        "#**Topic-StringBased Question**"
      ],
      "metadata": {
        "id": "1gJQGPjGlSqX"
      }
    },
    {
      "cell_type": "markdown",
      "source": [
        "###1. Write a Python program that takes a string as input and prints the length of the string."
      ],
      "metadata": {
        "id": "9ADj4kiClfEc"
      }
    },
    {
      "cell_type": "code",
      "source": [
        "#take input from user\n",
        "string1=input(\"Enter a string:\")\n",
        "#print the length of the string\n",
        "print(\"The Length of the string is\",len(string1))"
      ],
      "metadata": {
        "colab": {
          "base_uri": "https://localhost:8080/"
        },
        "id": "aDfbgh1ClrVz",
        "outputId": "eab3500d-67ae-497b-dd87-5c178a7682c7"
      },
      "execution_count": null,
      "outputs": [
        {
          "output_type": "stream",
          "name": "stdout",
          "text": [
            "Enter a string:Horeram\n",
            "The Length of the string is 7\n"
          ]
        }
      ]
    },
    {
      "cell_type": "markdown",
      "source": [
        "###2. Create a program that takes a sentence from the user and counts the number of vowels (a, e, i, o, u) in the string."
      ],
      "metadata": {
        "id": "MQv6xt9FmwOq"
      }
    },
    {
      "cell_type": "code",
      "source": [
        "sentence_1=input(\"Enter the sentence: \")\n",
        "vowels=\"aeiou\"\n",
        "count=sum(sentence_1.count(vowel) for vowel in vowels)\n",
        "print(count)"
      ],
      "metadata": {
        "id": "9QR9jaZ-m30b",
        "colab": {
          "base_uri": "https://localhost:8080/"
        },
        "outputId": "d0a4b4a9-c9e8-4c8a-b860-4697b96e633b"
      },
      "execution_count": 6,
      "outputs": [
        {
          "output_type": "stream",
          "name": "stdout",
          "text": [
            "Enter the sentence: Data science for pro\n",
            "7\n"
          ]
        }
      ]
    },
    {
      "cell_type": "markdown",
      "source": [
        "###3. Given a string, reverse the order of characters using string slicing and print the reversed string."
      ],
      "metadata": {
        "id": "nm6teeGDsfla"
      }
    },
    {
      "cell_type": "code",
      "source": [
        "stringTest=\"python\"\n",
        "print(\"The reverse of the string is\",stringTest[::-1])"
      ],
      "metadata": {
        "colab": {
          "base_uri": "https://localhost:8080/"
        },
        "id": "qPdDWNEJssGQ",
        "outputId": "bdf01faa-56c4-40cd-c38c-3d4500f7b380"
      },
      "execution_count": null,
      "outputs": [
        {
          "output_type": "stream",
          "name": "stdout",
          "text": [
            "The reverse of the string is nohtyp\n"
          ]
        }
      ]
    },
    {
      "cell_type": "markdown",
      "source": [
        "###4. Write a program that takes a string as input and checks if it is a palindrome (reads the same forwards and backwards)."
      ],
      "metadata": {
        "id": "lOjFbwlDtxY4"
      }
    },
    {
      "cell_type": "code",
      "source": [
        "string2=input(\"Enter a string\")\n",
        "lowercase_string=string2.lower()\n",
        "rev_string=string[::-1]\n",
        "if(lowercase_string==rev_string)\n",
        "  print(\"String is Palindrome\")\n",
        "else\n",
        "  print(\"S\")\n"
      ],
      "metadata": {
        "colab": {
          "base_uri": "https://localhost:8080/",
          "height": 53
        },
        "id": "H5cgqvuDtfLA",
        "outputId": "11846e66-7b4e-4cf6-8d62-b00b6508834d"
      },
      "execution_count": null,
      "outputs": [
        {
          "name": "stdout",
          "output_type": "stream",
          "text": [
            "Enter a stringMoM\n"
          ]
        },
        {
          "output_type": "execute_result",
          "data": {
            "text/plain": [
              "'mom'"
            ],
            "application/vnd.google.colaboratory.intrinsic+json": {
              "type": "string"
            }
          },
          "metadata": {},
          "execution_count": 1
        }
      ]
    },
    {
      "cell_type": "markdown",
      "source": [
        "###Create a program that takes a string as input and removes all the spaces from it. Print the modified string without spaces."
      ],
      "metadata": {
        "id": "NWDkcI9FRGfw"
      }
    },
    {
      "cell_type": "code",
      "source": [
        "sentence=input(\"Enter a sentence\")\n",
        "#replace() the spaces\n",
        "print(sentence.replace(\" \",\"\"))"
      ],
      "metadata": {
        "colab": {
          "base_uri": "https://localhost:8080/"
        },
        "id": "Eit-S5EcRR94",
        "outputId": "086a9c93-ac22-4c47-d851-c4470c2eb487"
      },
      "execution_count": 3,
      "outputs": [
        {
          "output_type": "stream",
          "name": "stdout",
          "text": [
            "Enter a sentenceHi this is debanita\n",
            "Hithisisdebanita\n"
          ]
        }
      ]
    },
    {
      "cell_type": "code",
      "source": [],
      "metadata": {
        "id": "AnMajKjDRlOz"
      },
      "execution_count": null,
      "outputs": []
    }
  ]
}